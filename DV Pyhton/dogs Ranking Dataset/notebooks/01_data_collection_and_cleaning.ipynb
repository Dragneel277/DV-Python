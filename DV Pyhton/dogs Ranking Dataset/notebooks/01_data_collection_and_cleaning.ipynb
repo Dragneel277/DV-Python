{
 "cells": [
  {
   "cell_type": "markdown",
   "metadata": {},
   "source": [
    "# Data Collection and Cleaning"
   ]
  },
  {
   "cell_type": "code",
   "execution_count": 2,
   "metadata": {},
   "outputs": [
    {
     "name": "stdout",
     "output_type": "stream",
     "text": [
      "Breed                         0\n",
      "type                          0\n",
      "score                         0\n",
      "popularity ranking            0\n",
      "size                          0\n",
      "intelligence                  0\n",
      "congential ailments           0\n",
      "score for kids                0\n",
      "size.1                        0\n",
      "$LIFETIME COST                0\n",
      "INTELLIGENCE RANK             0\n",
      "INTELLIGENCE %                0\n",
      "LONGEVITY(YEARS)              0\n",
      "NUMBER OF GENETIC AILMENTS    0\n",
      "GENETIC AILMENTS              0\n",
      "PURCHASE PRICE                0\n",
      "FOOD COSTS PER YEAR           0\n",
      "GROOMING FREQUNCY             0\n",
      "SUITABILITY FOR CHILDREN      0\n",
      "dtype: int64\n"
     ]
    }
   ],
   "source": [
    "import pandas as pd\n",
    "\n",
    "# Step 1: Data Collection\n",
    "data_path = \"../data/dogs-ranking-dataset.csv\"\n",
    "dogs_data = pd.read_csv(data_path)\n",
    "\n",
    "# Display the first few rows of the dataframe\n",
    "dogs_data.head()\n",
    "\n",
    "# Step 2: Data Cleaning\n",
    "# Check for missing values\n",
    "print(dogs_data.isnull().sum())\n",
    "\n",
    "# Drop rows with missing values (or you can choose to fill them)\n",
    "cleaned_data = dogs_data.dropna()\n",
    "\n",
    "# Display the first few rows of the cleaned dataframe\n",
    "cleaned_data.head()\n",
    "\n",
    "# Save cleaned data\n",
    "cleaned_data.to_csv(\"../data/cleaned_dogs_data.csv\", index=False)"
   ]
  }
 ],
 "metadata": {
  "kernelspec": {
   "display_name": "base",
   "language": "python",
   "name": "python3"
  },
  "language_info": {
   "codemirror_mode": {
    "name": "ipython",
    "version": 3
   },
   "file_extension": ".py",
   "mimetype": "text/x-python",
   "name": "python",
   "nbconvert_exporter": "python",
   "pygments_lexer": "ipython3",
   "version": "3.12.4"
  }
 },
 "nbformat": 4,
 "nbformat_minor": 2
}
