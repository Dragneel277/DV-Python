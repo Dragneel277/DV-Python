{
 "cells": [
  {
   "cell_type": "markdown",
   "metadata": {},
   "source": [
    "# Data Collection and Cleaning"
   ]
  },
  {
   "cell_type": "code",
   "execution_count": 2,
   "metadata": {},
   "outputs": [
    {
     "name": "stdout",
     "output_type": "stream",
     "text": [
      "work_year             0\n",
      "experience_level      0\n",
      "employment_type       0\n",
      "job_title             0\n",
      "salary                0\n",
      "salary_currency       0\n",
      "salary_in_usd         0\n",
      "employee_residence    0\n",
      "remote_ratio          0\n",
      "company_location      0\n",
      "company_size          0\n",
      "dtype: int64\n"
     ]
    }
   ],
   "source": [
    "import pandas as pd\n",
    "\n",
    "# Step 1: Data Collection\n",
    "data_path = \"../data/Dataset salary 2024.csv\"\n",
    "salaries_data = pd.read_csv(data_path)\n",
    "\n",
    "# Display the first few rows of the dataframe\n",
    "salaries_data.head()\n",
    "\n",
    "# Step 2: Data Cleaning\n",
    "# Check for missing values\n",
    "print(salaries_data.isnull().sum())\n",
    "\n",
    "# Handle missing values if any (e.g., drop or fill)\n",
    "cleaned_data = salaries_data.dropna()\n",
    "\n",
    "# Convert salary to a consistent currency if necessary (e.g., using a conversion rate)\n",
    "# For simplicity, assuming all salaries are already in USD\n",
    "\n",
    "# Display the first few rows of the cleaned dataframe\n",
    "cleaned_data.head()\n",
    "\n",
    "# Save cleaned data\n",
    "cleaned_data.to_csv(\"../data/cleaned_salaries_data.csv\", index=False)\n",
    "\n"
   ]
  }
 ],
 "metadata": {
  "kernelspec": {
   "display_name": "base",
   "language": "python",
   "name": "python3"
  },
  "language_info": {
   "codemirror_mode": {
    "name": "ipython",
    "version": 3
   },
   "file_extension": ".py",
   "mimetype": "text/x-python",
   "name": "python",
   "nbconvert_exporter": "python",
   "pygments_lexer": "ipython3",
   "version": "3.12.4"
  }
 },
 "nbformat": 4,
 "nbformat_minor": 2
}
