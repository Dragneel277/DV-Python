{
 "cells": [
  {
   "cell_type": "markdown",
   "metadata": {},
   "source": [
    "# Machine Learning"
   ]
  },
  {
   "cell_type": "code",
   "execution_count": 10,
   "metadata": {},
   "outputs": [
    {
     "name": "stderr",
     "output_type": "stream",
     "text": [
      "<>:13: SyntaxWarning: invalid escape sequence '\\$'\n",
      "<>:13: SyntaxWarning: invalid escape sequence '\\$'\n",
      "/tmp/ipykernel_9810/369474936.py:13: SyntaxWarning: invalid escape sequence '\\$'\n",
      "  return column.replace('[\\$,]', '', regex=True).astype(float)\n"
     ]
    },
    {
     "name": "stdout",
     "output_type": "stream",
     "text": [
      "Accuracy: 0.5666666666666667\n",
      "Confusion Matrix:\n",
      " [[5 2 2]\n",
      " [6 5 1]\n",
      " [1 1 7]]\n",
      "Classification Report:\n",
      "               precision    recall  f1-score   support\n",
      "\n",
      "           1       0.42      0.56      0.48         9\n",
      "           2       0.62      0.42      0.50        12\n",
      "           3       0.70      0.78      0.74         9\n",
      "\n",
      "    accuracy                           0.57        30\n",
      "   macro avg       0.58      0.58      0.57        30\n",
      "weighted avg       0.59      0.57      0.56        30\n",
      "\n"
     ]
    }
   ],
   "source": [
    "import pandas as pd\n",
    "from sklearn.model_selection import train_test_split\n",
    "from sklearn.ensemble import RandomForestClassifier\n",
    "from sklearn.metrics import accuracy_score, confusion_matrix, classification_report\n",
    "from sklearn.preprocessing import LabelEncoder\n",
    "from imblearn.over_sampling import SMOTE\n",
    "\n",
    "# Load cleaned data\n",
    "cleaned_data = pd.read_csv(\"../data/cleaned_dogs_data.csv\")\n",
    "\n",
    "# Function to clean numeric columns\n",
    "def clean_numeric_column(column):\n",
    "    return column.replace('[\\$,]', '', regex=True).astype(float)\n",
    "\n",
    "# Clean the relevant columns\n",
    "cleaned_data['PURCHASE PRICE'] = clean_numeric_column(cleaned_data['PURCHASE PRICE'])\n",
    "cleaned_data['FOOD COSTS PER YEAR'] = clean_numeric_column(cleaned_data['FOOD COSTS PER YEAR'])\n",
    "\n",
    "# Encode 'GROOMING FREQUNCY' column\n",
    "label_encoder = LabelEncoder()\n",
    "cleaned_data['GROOMING FREQUNCY'] = label_encoder.fit_transform(cleaned_data['GROOMING FREQUNCY'])\n",
    "\n",
    "# Feature Selection\n",
    "features = ['LONGEVITY(YEARS)', 'NUMBER OF GENETIC AILMENTS', 'PURCHASE PRICE', 'FOOD COSTS PER YEAR', 'GROOMING FREQUNCY']\n",
    "X = cleaned_data[features]\n",
    "y = cleaned_data['SUITABILITY FOR CHILDREN']\n",
    "\n",
    "# Ensure the target variable is numeric if needed\n",
    "if y.dtype == 'object':\n",
    "    y = y.astype('category').cat.codes\n",
    "\n",
    "# Apply SMOTE to balance the classes\n",
    "smote = SMOTE(random_state=42)\n",
    "X_resampled, y_resampled = smote.fit_resample(X, y)\n",
    "\n",
    "# Train-test split\n",
    "X_train, X_test, y_train, y_test = train_test_split(X_resampled, y_resampled, test_size=0.2, random_state=42)\n",
    "\n",
    "# Model Training\n",
    "model = RandomForestClassifier(n_estimators=100, random_state=42)\n",
    "model.fit(X_train, y_train)\n",
    "\n",
    "# Model Evaluation\n",
    "y_pred = model.predict(X_test)\n",
    "print(\"Accuracy:\", accuracy_score(y_test, y_pred))\n",
    "print(\"Confusion Matrix:\\n\", confusion_matrix(y_test, y_pred))\n",
    "print(\"Classification Report:\\n\", classification_report(y_test, y_pred, zero_division=1))\n"
   ]
  }
 ],
 "metadata": {
  "kernelspec": {
   "display_name": "base",
   "language": "python",
   "name": "python3"
  },
  "language_info": {
   "codemirror_mode": {
    "name": "ipython",
    "version": 3
   },
   "file_extension": ".py",
   "mimetype": "text/x-python",
   "name": "python",
   "nbconvert_exporter": "python",
   "pygments_lexer": "ipython3",
   "version": "3.12.4"
  }
 },
 "nbformat": 4,
 "nbformat_minor": 2
}
